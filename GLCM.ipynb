{
 "cells": [
  {
   "cell_type": "code",
   "execution_count": null,
   "metadata": {},
   "outputs": [],
   "source": [
    "import os\n",
    "\n",
    "import matplotlib.pyplot as plt\n",
    "from skimage.feature import greycomatrix, greycoprops\n",
    "from skimage import io\n",
    "import cv2 \n",
    "import numpy as np\n",
    "from os import listdir\n",
    "\n",
    "data_path = r''\n",
    "\n",
    "for image in os.listdir(data_path): \n",
    "    # check if the image ends with png\n",
    "    if (image.endswith(\".png\" or \".jpg\")):\n",
    "        print(image)"
   ]
  },
  {
   "cell_type": "code",
   "execution_count": null,
   "metadata": {},
   "outputs": [],
   "source": [
    "Data = []"
   ]
  },
  {
   "cell_type": "code",
   "execution_count": null,
   "metadata": {},
   "outputs": [],
   "source": [
    "for img in os.listdir(data_path):\n",
    "    img_path = os.path.join(data_path, img)\n",
    "    Data.append(\n",
    "        (cv2.resize(cv2.imread(img_path,0), (50, 50))))\n",
    "Data = np.array(Data)\n",
    "Data.shape[0]"
   ]
  },
  {
   "cell_type": "code",
   "execution_count": null,
   "metadata": {},
   "outputs": [],
   "source": [
    "import pandas as pd\n",
    "image_dataset = pd.DataFrame()\n",
    "for image in range(Data.shape[0]): \n",
    "        df = pd.DataFrame()\n",
    "        img = Data[image, :,:]\n",
    "        GLCM = greycomatrix(img, [1], [0])       \n",
    "        GLCM_Energy = greycoprops(GLCM, 'energy')[0]\n",
    "        df['Energy'] = GLCM_Energy\n",
    "        GLCM_corr = greycoprops(GLCM, 'correlation')[0]\n",
    "        df['Correlation'] = GLCM_corr       \n",
    "        GLCM_diss = greycoprops(GLCM, 'dissimilarity')[0]\n",
    "        df['Diss_sim'] = GLCM_diss       \n",
    "        GLCM_hom = greycoprops(GLCM, 'homogeneity')[0]\n",
    "        df['Homogenity'] = GLCM_hom       \n",
    "        GLCM_contr = greycoprops(GLCM, 'contrast')[0]\n",
    "        df['Contrast'] = GLCM_contr\n",
    "        ASM = greycoprops(GLCM,'ASM')[0]\n",
    "        df['entropy'] = ASM\n",
    "        \n",
    "        GLCM = greycomatrix(img, [1], [ np.pi/4])       \n",
    "        GLCM_Energy = greycoprops(GLCM, 'energy')[0]\n",
    "        df['Energy45'] = GLCM_Energy\n",
    "        GLCM_corr = greycoprops(GLCM, 'correlation')[0]\n",
    "        df['Corr45'] = GLCM_corr       \n",
    "        GLCM_diss = greycoprops(GLCM, 'dissimilarity')[0]\n",
    "        df['Diss_sim45'] = GLCM_diss       \n",
    "        GLCM_hom = greycoprops(GLCM, 'homogeneity')[0]\n",
    "        df['Homogen45'] = GLCM_hom       \n",
    "        GLCM_contr = greycoprops(GLCM, 'contrast')[0]\n",
    "        df['Contrast45'] = GLCM_contr\n",
    "        ASM = greycoprops(GLCM,'ASM')[0]\n",
    "        df['entropy45'] = ASM\n",
    "        \n",
    "        GLCM = greycomatrix(img, [1], [ np.pi/2])       \n",
    "        GLCM_Energy = greycoprops(GLCM, 'energy')[0]\n",
    "         df['Energy90'] = GLCM_Energy\n",
    "        GLCM_corr = greycoprops(GLCM, 'correlation')[0]\n",
    "        df['Corr90'] = GLCM_corr       \n",
    "        GLCM_diss = greycoprops(GLCM, 'dissimilarity')[0]\n",
    "        df['Diss_sim90'] = GLCM_diss       \n",
    "        GLCM_hom = greycoprops(GLCM, 'homogeneity')[0]\n",
    "        df['Homogen90'] = GLCM_hom       \n",
    "        GLCM_contr = greycoprops(GLCM, 'contrast')[0]\n",
    "        df['Contrast90'] = GLCM_contr\n",
    "        ASM = greycoprops(GLCM,'ASM')[0]\n",
    "        df['entropy90'] = ASM\n",
    "        \n",
    "        GLCM = greycomatrix(img, [1], [ 3*np.pi/4])       \n",
    "        GLCM_Energy = greycoprops(GLCM, 'energy')[0]\n",
    "        df['Energy135'] = GLCM_Energy\n",
    "        GLCM_corr = greycoprops(GLCM, 'correlation')[0]\n",
    "        df['Corr135'] = GLCM_corr       \n",
    "        GLCM_diss = greycoprops(GLCM, 'dissimilarity')[0]\n",
    "        df['Diss_sim135'] = GLCM_diss       \n",
    "        GLCM_hom = greycoprops(GLCM, 'homogeneity')[0]\n",
    "        df['Homogen135'] = GLCM_hom       \n",
    "        GLCM_contr = greycoprops(GLCM, 'contrast')[0]\n",
    "        df['Contrast135'] = GLCM_contr\n",
    "        ASM = greycoprops(GLCM,'ASM')[0]\n",
    "        df['entropy135'] = ASM\n",
    "        \n",
    "        image_dataset = image_dataset.append(df)  "
   ]
  },
  {
   "cell_type": "code",
   "execution_count": null,
   "metadata": {},
   "outputs": [],
   "source": [
    "image_dataset "
   ]
  }
 ],
 "metadata": {
  "language_info": {
   "name": "python"
  },
  "orig_nbformat": 4
 },
 "nbformat": 4,
 "nbformat_minor": 2
}
